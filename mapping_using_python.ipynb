{
  "nbformat": 4,
  "nbformat_minor": 0,
  "metadata": {
    "colab": {
      "provenance": [],
      "authorship_tag": "ABX9TyOG/PHSNlpKi86q3saLNfLc",
      "include_colab_link": true
    },
    "kernelspec": {
      "name": "python3",
      "display_name": "Python 3"
    },
    "language_info": {
      "name": "python"
    }
  },
  "cells": [
    {
      "cell_type": "markdown",
      "metadata": {
        "id": "view-in-github",
        "colab_type": "text"
      },
      "source": [
        "<a href=\"https://colab.research.google.com/github/shuai-zhou/demo/blob/main/mapping_using_python.ipynb\" target=\"_parent\"><img src=\"https://colab.research.google.com/assets/colab-badge.svg\" alt=\"Open In Colab\"/></a>"
      ]
    },
    {
      "cell_type": "markdown",
      "source": [
        "# Load libraries"
      ],
      "metadata": {
        "id": "UxZlHxoXFd3K"
      }
    },
    {
      "cell_type": "code",
      "source": [
        "%matplotlib inline\n",
        "\n",
        "import matplotlib\n",
        "import numpy as np\n",
        "import pandas as pd\n",
        "import geopandas as gpd\n",
        "import matplotlib.pyplot as plt\n",
        "\n",
        "from IPython.core.interactiveshell import InteractiveShell\n",
        "InteractiveShell.ast_node_interactivity = \"all\"\n",
        "\n",
        "print(\"Numpy version\", np.__version__)\n",
        "print(\"Geopandas version\", gpd.__version__)\n",
        "print(\"Pandas version\", pd.__version__)\n",
        "print(\"Matplotlib version\", matplotlib.__version__)"
      ],
      "metadata": {
        "colab": {
          "base_uri": "https://localhost:8080/"
        },
        "id": "LKKuKkJVFfZE",
        "outputId": "9a8cf215-4bef-4bd3-ef08-2821beed4563"
      },
      "execution_count": 5,
      "outputs": [
        {
          "output_type": "stream",
          "name": "stdout",
          "text": [
            "Numpy version 1.23.5\n",
            "Geopandas version 0.13.2\n",
            "Pandas version 1.5.3\n",
            "Matplotlib version 3.7.1\n"
          ]
        }
      ]
    },
    {
      "cell_type": "markdown",
      "source": [
        "# Read shapefile"
      ],
      "metadata": {
        "id": "9AhqFjuMGawF"
      }
    },
    {
      "cell_type": "code",
      "source": [],
      "metadata": {
        "id": "VYJHSvunGcoy"
      },
      "execution_count": null,
      "outputs": []
    }
  ]
}